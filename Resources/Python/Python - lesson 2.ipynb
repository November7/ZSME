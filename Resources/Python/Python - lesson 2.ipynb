{
  "cells": [
    {
      "cell_type": "markdown",
      "metadata": {
        "id": "9atHRYeUv-dw"
      },
      "source": [
        "# **Podstawy programowania w języku Python - część 2**\n",
        "\n"
      ]
    },
    {
      "cell_type": "markdown",
      "metadata": {
        "id": "JcrPhpVIiJ_o"
      },
      "source": [
        "## 5\\. Pętle\n",
        "Pętle są wykorzysytwane do wielokrotnego wykonywania określonego bloku instrukcji. Iteracja - pojedyncze powtórzenie pętli.\n",
        "\n",
        "Załóżmy że naszym zadaniem jest wypisanie na ekranie cyfr kolejno od 0 do 9. Naturalnym pomysłem na rozwiązanie tego zadania jest 10-krotne użycie funkcji print() lub użycie jednej funkcji print(), której podamy 10 argumentów. Rozwiązanie to nie jest jednak optymalne. "
      ]
    },
    {
      "cell_type": "code",
      "execution_count": null,
      "metadata": {
        "id": "J0Lw7tIejVzi"
      },
      "outputs": [],
      "source": [
        "print(\"Rozwiązanie intuicyjne\")\n",
        "print(0, 1, 2, 3, 4, 5, 6, 7, 8, 9, sep=\"\\n\")"
      ]
    },
    {
      "cell_type": "markdown",
      "metadata": {
        "id": "FYbmSheulMx_"
      },
      "source": [
        "### 5.1. Pętla *while*\n",
        "Pętla while wykonuje kolejną iterację, jeżeli wyrażenie warunkowe jest prawdziwe. Warunek sprawdzany jest przed każdą iteracją.\n",
        "W poniższym przykładzie wykorzystywana jest zmienna `i` która pełni rolę licznika pętli - zmiennej kontrolującą ilość iteracji. Przed rozpoczęciem pętli, licznik musi mieć nadaną wartość początkową. Na końcu każdej iteracji wartość licznika jest zwiększana o 1 (inkrementowana).\n",
        "\n",
        "Zapamiętaj:\n",
        "- Iteracja - pojedyncze powtórzenie pętli\n",
        "- Inkrementacja - zwiększenie zmiennej o 1\n",
        "- Dekrementacja - zmniejszenie wartości o 1"
      ]
    },
    {
      "cell_type": "code",
      "execution_count": null,
      "metadata": {
        "id": "TwyI1F7DlU01"
      },
      "outputs": [],
      "source": [
        "i=0\n",
        "\n",
        "while i<10:\n",
        "  print(i)\n",
        "  i+=1"
      ]
    },
    {
      "cell_type": "markdown",
      "metadata": {
        "id": "oDdj-L2oMoyb"
      },
      "source": [
        "### 5.2. Pętla *for*\n",
        "\n",
        "Pętla for wykonuje iterację dla każdego elementu zbioru podanego w konstrukcji pętli. W poniższym przykładzie zbiorem jest funkcja `range`, zwracająca sekwencję 10 wartości: od 0 do 9\n",
        "\n",
        "Użycie funkcji range: \n",
        "\n",
        "- `range(stop)` - zakres <0, stop)\n",
        "- `range(start,stop)` - zakres <start, stop)\n",
        "- `range(start,stop,step)` - zakres <start, stop), skok co *step*\n"
      ]
    },
    {
      "cell_type": "code",
      "execution_count": null,
      "metadata": {
        "id": "flJ_xqszP11A",
        "colab": {
          "base_uri": "https://localhost:8080/"
        },
        "outputId": "9b4c3989-7a5b-4034-f7e8-378441254aa0"
      },
      "outputs": [
        {
          "output_type": "stream",
          "name": "stdout",
          "text": [
            "Użycie pętli for od 0 do 9:\n",
            "0, 1, 2, 3, 4, 5, 6, 7, 8, 9, \n",
            "\n",
            "Użycie pętli for od 5 do 9:\n",
            "5, 6, 7, 8, 9, \n",
            "\n",
            "Użycie pętli for od 0 do 99 co 3:\n",
            "0, 3, 6, 9, 12, 15, 18, 21, 24, 27, 30, 33, 36, 39, 42, 45, 48, 51, 54, 57, 60, 63, 66, 69, 72, 75, 78, 81, 84, 87, 90, 93, 96, 99, "
          ]
        }
      ],
      "source": [
        "print(\"Użycie pętli for od 0 do 9:\")\n",
        "\n",
        "for i in range(10):\n",
        "  print(i, end=', ')\n",
        "\n",
        "print(\"\\n\\nUżycie pętli for od 5 do 9:\")\n",
        "\n",
        "for i in range(5,10):\n",
        "  print(i, end=', ')\n",
        "\n",
        "print(\"\\n\\nUżycie pętli for od 0 do 99 co 3:\")\n",
        "\n",
        "for i in range(0,100,3):\n",
        "  print(i, end=', ')"
      ]
    },
    {
      "cell_type": "markdown",
      "source": [
        "### 5.3. Przerywanie pętli, pomijanie iteracji\n",
        "\n",
        "Zarówno pętla `for` jak i `while` może zostać przerwana od węwnątrze przed wykonaniem zaplanowanej ilości iteracji. \n",
        "\n",
        "Poniższy przykład wyświetla liczby z zakresu podanego przez użytkownika, ale gdy pojawi się liczba podzielna przez 17 to przerywa działanie (chyba, że wcześniej osiągnie koniec podanego zakresu)."
      ],
      "metadata": {
        "id": "8lZFtBAg2LOO"
      }
    },
    {
      "cell_type": "code",
      "source": [
        "print(\"Program szuka pierwszej liczby z podanego zakresu, która jest podzielna przez 17\")\n",
        "start = int(input(\"Podaj początek zakresu \"))\n",
        "stop = int(input(\"Podaj koniec zakresu \"))\n",
        "\n",
        "for i in range(start,stop):\n",
        "  print(i)\n",
        "  if i % 17 == 0:\n",
        "    break\n",
        "    \n",
        "print(\"Odp: \",i,\" jest podzielne przez 17\")"
      ],
      "metadata": {
        "id": "21-eJBX92mPD"
      },
      "execution_count": null,
      "outputs": []
    },
    {
      "cell_type": "markdown",
      "source": [
        "Możliwe jest również pominięcie konkretnej iteracji (przejście do kolejnej iteracji), które z jakiś powodów nie powinny być wykonane.\n",
        "\n",
        "Poniższy przykład wyświetla liczby z podanego zakresu, pomijając te, które są podzielne przez 13 lub 17"
      ],
      "metadata": {
        "id": "Iem65Ito4OO9"
      }
    },
    {
      "cell_type": "code",
      "source": [
        "print(\"Program wyświetla liczby z podanego zakresu, z wyjątkiem tych, które są podzielne przez 13 lub 17\")\n",
        "start = int(input(\"Podaj początek zakresu \"))\n",
        "stop = int(input(\"Podaj koniec zakresu \"))\n",
        "\n",
        "for i in range(start,stop):\n",
        "  if i % 17 == 0 or i % 13 == 0:\n",
        "    print(\"pomijam\")\n",
        "    continue\n",
        "  print(i)"
      ],
      "metadata": {
        "id": "MS7X6o-_4mNC"
      },
      "execution_count": null,
      "outputs": []
    },
    {
      "cell_type": "markdown",
      "metadata": {
        "id": "oqc7TvFPtW66"
      },
      "source": [
        "Przypomnij sobie przykład z poprzedniej lekcji - \"kalkulator\" wykonujący obliczenia na podanych argumentach. Program potrafił tylko jednokrotnie pobrać dane i wykonać wybrane działanie arytmetyczne. \n",
        "\n",
        "W poniższym przykładzie zostanie wykorzystana pętla, dzięki której program będzie mógł wykonywać działania do czasu zakończenia go przez użytkownika."
      ]
    },
    {
      "cell_type": "code",
      "execution_count": null,
      "metadata": {
        "id": "aJjOXjiRtW66"
      },
      "outputs": [],
      "source": [
        "from IPython.display import clear_output #dołączenie wymaganej biblioteki \n",
        "\n",
        "x = ''\n",
        "y = ''\n",
        "\n",
        "while True:\n",
        "  clear_output(wait=False) #czyszczenie ekranu notatnika\n",
        "  print(\"\"\"Wybierz jedną z opcji:\\n\n",
        "  ------------- Menu ----------------\n",
        "      1. Podaj dane liczbowe\n",
        "      2. Dodawanie\n",
        "      3. Odejmowanie\n",
        "      4. Mnożenie\n",
        "      5. Dzielenie\n",
        "      6. Dzielenie całkowite\n",
        "      7. Dzielenie modulo (reszta z dzielenia)\n",
        "      8. Koniec programu\n",
        "  -----------------------------------\n",
        "      \"\"\")\n",
        "  opcja = int(input(\"Podaj opcję \"))\n",
        "\n",
        "  if opcja == 8:\n",
        "    print(\"Do widzenia\")\n",
        "    break  \n",
        "  elif opcja == 1:\n",
        "    x = float(input(\"Podaj argument 1: \"))\n",
        "    y = float(input(\"Podaj argument 2: \"))  \n",
        "    ix = int(x) #obliczanie wartości całkowitej tylko jeden raz podczas wprowadzenia danych (a nie za każdym razem)\n",
        "    iy = int(y)\n",
        "  elif x == '' or y == '':\n",
        "    print(\"Brak danych! wybierz opcję nr 1\")   \n",
        "  elif opcja == 2:\n",
        "    print(\"Wynik dodawania: \",x+y)\n",
        "  elif opcja == 3:\n",
        "    print(\"Wynik odejmowania: \",x-y)\n",
        "  elif opcja == 4:\n",
        "    print(\"Wynik mnożenia: \",x*y)\n",
        "  elif opcja == 5:\n",
        "    if y == 0:\n",
        "      print(\"nie mogę podzielić przez zero!\")\n",
        "    else:\n",
        "      print(\"Wynik dzielenia: \",x/y)\n",
        "  elif opcja == 6:\n",
        "    if iy == 0:\n",
        "      print(\"nie mogę podzielić przez zero!\")\n",
        "    else:\n",
        "     print(\"Wynik dzielenia całkowitego: \",ix // iy)\n",
        "  elif opcja == 7:   \n",
        "    if iy == 0:\n",
        "      print(\"nie mogę podzielić przez zero!\")\n",
        "    else:\n",
        "      print(\"Reszta z dzielenia całkowitego: \",ix % iy)\n",
        "  else:\n",
        "    print(\"Nieznana opcja\")\n",
        "  input(\"Press any key... \")\n",
        "##"
      ]
    },
    {
      "cell_type": "markdown",
      "metadata": {
        "id": "W57PTM-wkY5M"
      },
      "source": [
        "Kolejny przykład do gra.\n",
        "\n",
        "Zadaniem skryptu będzie wylosowanie liczby z zakresu od 1 do 1000 oraz udzielanie odpowiedzi czy liczba podawana przez gracza została odgadnięta, czy jest zbyt duża, a może zbyt mała.\n",
        "Zadaniem użytkownika, będzie odgadnięcie tej liczby w jak najmniejszej liczbie kroków."
      ]
    },
    {
      "cell_type": "code",
      "execution_count": null,
      "metadata": {
        "id": "dbARXHQblFzD"
      },
      "outputs": [],
      "source": [
        "from random import randint\n",
        "\n",
        "wylosowana_liczba = randint(1, 1000)\n",
        "#print(wylosowana_liczba) #możesz podglądnąć wylosowaną liczbę\n",
        "\n",
        "proba = 1\n",
        "while True: #pętla nieskończona, można dać ograniczenie do 10, 20, 30 prób?\n",
        "  print(\"Próba \",proba)\n",
        "  liczba = int(input(\"Podaj liczbe: \"))\n",
        "  if wylosowana_liczba == liczba:\n",
        "     print(\"Brawo, odgadłeś  wylosowaną liczbę za \",proba,\" razem\")\n",
        "     break\n",
        "  elif wylosowana_liczba > liczba:\n",
        "     print(\"Za mało\")\n",
        "  elif wylosowana_liczba < liczba:\n",
        "     print(\"Za dużo\")\n",
        "  proba+=1"
      ]
    },
    {
      "cell_type": "markdown",
      "metadata": {
        "id": "FPtAU-BgtZmp"
      },
      "source": [
        "## 6\\. Listy \n",
        "### 6.1. Wprowadzenie teoretyczne\n",
        "Powróćmy jeszcze raz do zadania z dziennikiem ocen. Można powiedzieć, że spełniał on wymagania, gdyż działał poprawnie. Jednak jest w tym rozwiązaniu pewien problem. Co jeśli chcielibyśmy w zmiennej `matematyka` przechowywać wszystkie oceny ucznia z tego przedmiotu? Musielibyśmy stoworzyć *n* nowych zmiennych przechowujących oceny. Czyli jak by to miało wyglądać? `matematyka1 = 4.5`, `matematyka2 = 5`, `matematyka3 = 4`.\n",
        "\n",
        "Łatwo się w tym pogubić, a to i tak przykład z 3 ocenami dla danego ucznia. Czy da się zrobić to lepiej? \n",
        "\n",
        "Oczywiście. Z pomocą w rozwiązaniu tego zadania przychodzą listy. Lista jest to rodzaj zmiennej, która zawierać może w sobie więcej zmiennych, tego samego lub różnego typu. Lista ma określoną liczbę elementów. Aby dostać się do do konkretnego elementu w zmiennej posługujemy się indeksem. Pierwszy element w tablicy ma indeks 0 kolejny 1 i tak dalej. Zapamiętaj że indeksowanie zaczynamy od 0. Charakterystyczne dla listy jest to, że zmienna opakowane są w nawiasy kwadratowe i oddzielone przecinkami. Spójrz na przykład \n",
        "\n",
        "`x = [1, 2, 5, 3]`  \n",
        "\n",
        "`a = x[0]` - zmienna a odwołuje się do pierwszego elementu listy `x` \n",
        "\n",
        "Załóżmy, że pod jedną zmienną `przedmiot` będą się kryć wszystkie oceny ucznia z tego przedmiotu.\n",
        "Spróbuj wyświetlić wszystkie oceny z przedmiotu, pojedynczą ocenę z przedmiotu oraz zmienić oceny z przedmiotów. "
      ]
    },
    {
      "cell_type": "code",
      "execution_count": null,
      "metadata": {
        "id": "L29wbc3JtHd5"
      },
      "outputs": [],
      "source": [
        "matematyka = [5, 2, 4, 2.5, 6]\n",
        "jezyk_polski = [5, 5.5, 4, 2.5, 4.5]\n",
        "jezyk_angielski = [5, 5.5, 6, 4.5, 3.5, 4]\n",
        "fizyka = [3, 2, 4.5]\n",
        "geografia = [5.5, 4.5, 4, 5, 5, 4.5]\n",
        "\n",
        "print(\"matematyka\", matematyka)\n",
        "print(\"fizyka\", fizyka)"
      ]
    },
    {
      "cell_type": "markdown",
      "metadata": {
        "id": "kCZuu71EHRxQ"
      },
      "source": [
        "Dzięki, takiemu rozwiązaniu nie musimy tworzyć wielu zmiennych dla jednego przedmiotu. Możemy też dynamicznie modyfikować taką listę, czyli dodawać oceny, usuwać je lub zmieniać. "
      ]
    },
    {
      "cell_type": "markdown",
      "metadata": {
        "id": "DwzLbVGuHRxQ"
      },
      "source": [
        "### 6.2 Praca z listami\n",
        "\n",
        "Jak już wiesz listy są dynamicznym typem danych. Oznacza to, że możemy je dowolnie modyfikować w trakcie działania naszego programu. Biblioteka Pythona dostarcza funkcje, które nam w tym pomogą. Zastanów się jak mogą działać poniższe wyrażenia. Spróbuj sam je wypróbować. Jeśli chcesz wrócić do pierwotnej zawartości listy wykonaj raz jeszcze powyższy kod. "
      ]
    },
    {
      "cell_type": "code",
      "execution_count": null,
      "metadata": {
        "id": "w_ejUA82HRxQ"
      },
      "outputs": [],
      "source": [
        "jezyk_angielski = [5, 5.5, 6, 4.5, 3.5, 4]\n",
        "\n",
        "# wyświetla 3 ocene z listy\n",
        "print(jezyk_angielski[2])\n",
        "\n",
        "# wyświetla pierwsze 3 oceny z list\n",
        "print(jezyk_angielski[0:3])\n",
        "\n",
        "# wyświetla 3 i 4 ocenę z listy\n",
        "print(jezyk_angielski[2:4])\n",
        "\n",
        "# dodaje nową ocenę (4.5) na koniec listy\n",
        "jezyk_angielski.append(4.5)\n",
        "jezyk_angielski.append(3.5)\n",
        "jezyk_angielski.append(5.5)\n",
        "print(jezyk_angielski)\n",
        "\n",
        "# wyświetla liczbę elementów w liście (ocen)\n",
        "print(len(jezyk_angielski))\n",
        "\n",
        "# usuwa drugą ocenę z listy\n",
        "el = jezyk_angielski.pop(1)\n",
        "print(\"el:\",el)\n",
        "print(jezyk_angielski)\n",
        "\n",
        "# sortuje oceny od najniższej do najwyższej\n",
        "jezyk_angielski.sort()\n",
        "print(jezyk_angielski)"
      ]
    },
    {
      "cell_type": "markdown",
      "source": [
        "### 6.3 Ekstrakcja elementów listy (i innych typów agregacyjnych)\n",
        "\n",
        "Lista, krotka, zestaw to typy służące agregacji (złączenia, spakowania) danych w jednej zmiennej. Mimo podstawowych różnic, mają wiele wspólnych cech. Jedną z nich jest możliwość ektrakcji (czyli wyciągnięcia) danych bezpośrednio do pojedynczych zmiennych, bez użycia np. pętli.\n",
        "Przyjrzyj się poniższemu przykładowi:"
      ],
      "metadata": {
        "id": "zW9tcpNmerqw"
      }
    },
    {
      "cell_type": "code",
      "source": [
        "lista = [\"samolot\", 100, 33.1]\n",
        "zestaw = {\"okręt\",101,33.2}\n",
        "krotka = (\"autobus\",102,33.3)\n",
        "slownik = {\"typ\":\"samochód\",\"marka\":\"Tesla\"}\n",
        "\n",
        "l1, l2, l3 = lista\n",
        "z1, z2, z3 = zestaw\n",
        "k1, k2, k3 = krotka\n",
        "s1, s2 = slownik\n",
        "\n",
        "print(lista)\n",
        "print(l1, l2, l3)\n",
        "#l1, l2 = lista # błąd - lista posiada więcej elementów i nie da się ich rozpakować do dówch zmiennych!\n",
        "\n",
        "print(zestaw)\n",
        "print(z1, z2, z3)\n",
        "\n",
        "print(krotka)\n",
        "print(k1, k2, k3)\n",
        "\n",
        "print(slownik) \n",
        "print(s1, s2)\n",
        "print(slownik[s1], slownik[s2])"
      ],
      "metadata": {
        "id": "VIV6vjrgfRdD"
      },
      "execution_count": null,
      "outputs": []
    },
    {
      "cell_type": "markdown",
      "source": [
        "Jak zauważyłeś, listę (jakikolwiek typ agrgacyjny) można rozpakować do takiej samej ilości zmiennych co ilość zawartych w niej elementów. \n",
        "A co w sytuacji, gdy chcemy wyciągnąć tylko kilka pierwszych elementów?"
      ],
      "metadata": {
        "id": "nMD2VX0riX2-"
      }
    },
    {
      "cell_type": "code",
      "source": [
        "lista = [1,2,3,4,5,6,7]\n",
        "\n",
        "#a,b,c = lista # błąd\n",
        "\n",
        "a, b, *reszta = lista\n",
        "\n",
        "print(a,b,reszta,sep=\"\\n\")"
      ],
      "metadata": {
        "id": "nbbYPB_VitV5"
      },
      "execution_count": null,
      "outputs": []
    },
    {
      "cell_type": "markdown",
      "source": [
        "W powyższy przykładzie zmienna `reszta` pełni rolę obiektu do przechowywania pozostałych, nierozpakowanych elementów. Niekoniecznie muszą to być pozostałe, czyli ostatnie elementy zbioru!"
      ],
      "metadata": {
        "id": "T8OTrQK0jbA1"
      }
    },
    {
      "cell_type": "code",
      "source": [
        "lista = [1,2,3,4,5,6,7] #działa dla wszystkich typów agregacyjnych: (), [], {}\n",
        "\n",
        "a, b, *reszta, c, d = lista\n",
        "\n",
        "print(a, b, c, d, reszta, sep=\"\\n\")\n",
        "\n",
        "pierwszy, *tmp, ostatni = lista\n",
        "\n",
        "print(pierwszy, ostatni)"
      ],
      "metadata": {
        "id": "e2puEruXjpKp"
      },
      "execution_count": null,
      "outputs": []
    },
    {
      "cell_type": "markdown",
      "source": [
        "Oczywiście wyciąganie danych ze zbiorów różnego typu można zrealizować inaczej np.: \n",
        "`print(lista[0], lista[-1])` \n",
        "\n",
        "albo \n",
        "\n",
        "`print(lista[0], lista[len(lista) - 1])` \n",
        "\n",
        "ale jest to po prostu mniej wygodne, a wprzypadku zestawu `{}` po prostu niemożliwe - nie ma operatora `[]`."
      ],
      "metadata": {
        "id": "JrPenYwtk2FH"
      }
    },
    {
      "cell_type": "markdown",
      "source": [
        "### 6.4 Listy i pętla for\n",
        "\n",
        "Dość intuicyjna wydaje się chęć używania pętli do \"obsługi\" list (a w zasadzie wszystkich innych typów agregujących większą ilość danych).\n",
        "\n",
        "Przyjrzyj się poniższym przykładom przedstawiającym wykorzystanie list i pętli.\n",
        "Zwróć uwagę na wartości list - nie muszą być takiego samego typu! Zastanów się, która z pętli lepiej nadaje się do współpracy z listami?"
      ],
      "metadata": {
        "id": "v7ym0NALN7Ws"
      }
    },
    {
      "cell_type": "code",
      "source": [
        "lista1 = [1,2,4,2,6,3,2,4,6]\n",
        "\n",
        "#pętla while\n",
        "print(\"\\n\\nUżycie pętli while\\n\")\n",
        "i=0\n",
        "while i<len(lista1):\n",
        "  print(\"Element listy numer\",i,\"wynosi:\",lista1[i]) #odowłanie się do i-tego elementu listy\n",
        "  i+=1\n",
        "\n",
        "#pętla for\n",
        "print(\"\\n\\nUżycie pętli for\\n\")\n",
        "for element in lista1:\n",
        "  print(\"Kolejny element listy to:\",element)\n"
      ],
      "metadata": {
        "id": "2E37LLorOg4_"
      },
      "execution_count": null,
      "outputs": []
    },
    {
      "cell_type": "markdown",
      "source": [
        "Przykład listy zawierającej elementy różnego typu."
      ],
      "metadata": {
        "id": "Y365M6R1PySY"
      }
    },
    {
      "cell_type": "code",
      "source": [
        "lista = [1,\"dwa\",\"trzy i pół\", True, 5.7]\n",
        "\n",
        "print(lista)\n",
        "\n",
        "lista[0]+=10 #zwiększenie wartości lista[0] o 10 (czyli to jest liczba)\n",
        "\n",
        "print(lista)"
      ],
      "metadata": {
        "id": "5qcX4BkgP13c",
        "colab": {
          "base_uri": "https://localhost:8080/"
        },
        "outputId": "4893ba33-d140-4984-a8ff-c5d9a6832603"
      },
      "execution_count": null,
      "outputs": [
        {
          "output_type": "stream",
          "name": "stdout",
          "text": [
            "[1, 'dwa', 'trzy i pół', True, 5.7]\n",
            "[11, 'dwa', 'trzy i pół', True, 5.7]\n"
          ]
        }
      ]
    },
    {
      "cell_type": "markdown",
      "metadata": {
        "id": "pTPQGpvCtpt2"
      },
      "source": [
        "### Przykład użycia list i pętli\n",
        "Sróbujmy teraz napisać program, który pozwoli użytkownikowi wpisanie 5 ocen z wybranego przedmiotu. W rozwiązaniu tego zadania wykorzystaj wiedzę o tym jak działa pętla *for* oraz jak dodawać wartości do listy. Zmień nazwę zmienną `nazwa_przedmiotu` na wybrany przez Ciebie, nie zdefiniowany jeszcze przedmiot."
      ]
    },
    {
      "cell_type": "code",
      "execution_count": null,
      "metadata": {
        "id": "DwZ3a4obtpAi"
      },
      "outputs": [],
      "source": [
        "nazwa_przedmiotu = [] \n",
        "\n",
        "for i in range(5):\n",
        "  wiadomosc  = \"Podaj ocenę nr \"+str(i+1)+\": \"\n",
        "  \n",
        "  #wiadomosc = f\"Podaj ocenę nr {i+1}: \" #formatowanie stringu 1\n",
        "  #wiadomosc = \"Podaj ocenę nr {}: \".format(i+1) #formatowanie stringu 2\n",
        "    \n",
        "  ocena = float(input(wiadomosc))\n",
        "  nazwa_przedmiotu.append(ocena)\n",
        "\n",
        "print(nazwa_przedmiotu)\n",
        "    "
      ]
    },
    {
      "cell_type": "markdown",
      "source": [
        "### 6.5 Formatowanie tekstu\n",
        "W powyższym przykładzie znajdują się przykłady formatowania tekst (stringu) różnymi metodami:\n",
        "- zwykłe łączenie (konkatenacja) za pomocą operatora `+`. Zwróć uwagę, że w takim przypadku należy użyć konwersji liczby na tekst za pomocą `str()` ponieważ operator konkatenacji i dodawania jest taki sam, więc takich danych nie da się ani dodać ani połączyć jeżeli są różnego typu!\n",
        "- wymuszenie formatowania (wstępnego przetworzenia tekstu) tak aby wartości lub zmienne znajdujące się w klamrach `{}` zostały obliczone i przekonwertowane na string\n",
        "- użycie funkcji (metody) format na stringu podstawiając w miejsce klamer `{}` odpowiednich, obliczonych wartości\n",
        "\n",
        "Przeanalizuj poniższy przykład:"
      ],
      "metadata": {
        "id": "pQXaPP4JHN_k"
      }
    },
    {
      "cell_type": "code",
      "source": [
        "a = 123\n",
        "b = \"jakiś tekst\"\n",
        "c = 3.14\n",
        "\n",
        "#złączenie za pomocą operatora konkatenacji z jednoczesną konwersją liczba na tekst.\n",
        "print(str(a)+\" \"+b+\" \"+str(c))\n",
        "\n",
        "#użycie metody format - zwróć uwage na użycie kropki w wyrażeniu!\n",
        "wynik = \"tekst {} {} {}\".format(a,b,c)\n",
        "print(wynik)\n",
        "\n",
        "#Możemy dowolnie zmieniać kolejność argumentów wstawianych w klamrach niż domyślna. Numeracja zaczyna się od 0.\n",
        "wynik = \"{2} {1} {0}\".format(a,b,c)\n",
        "print(wynik)\n",
        "\n",
        "#'Parsowanie' tekstu - wstępne przetworzenie danych w nawiasach klamrowych\n",
        "wynik = f\"{a} {b} {c}\"\n",
        "print(wynik)"
      ],
      "metadata": {
        "id": "n90JRfQUIr2d"
      },
      "execution_count": null,
      "outputs": []
    },
    {
      "cell_type": "markdown",
      "metadata": {
        "id": "oyWQPxiYaitl"
      },
      "source": [
        "Skoro w pojedynczej zmiennej (liście) przechowujemy wszystkie oceny ucznia z danego przedmiotu, dobrze by było mieć możliwość obliczenia średniej ocen ucznia, jego najlepszej i najgorszej oceny. Sposobów na rozwiązanie tego zadania może być kilka. Spróbuj samodzielnie stworzyć taką funkcjonalność.  \n"
      ]
    },
    {
      "cell_type": "code",
      "execution_count": null,
      "metadata": {
        "id": "fe7NI9l2jUak",
        "colab": {
          "base_uri": "https://localhost:8080/"
        },
        "outputId": "fe384e01-3371-4dda-cd9a-80f891ab9e41"
      },
      "outputs": [
        {
          "output_type": "stream",
          "name": "stdout",
          "text": [
            "e\n",
            "Średnia:  3.25\n",
            "Najlepsza ocena:  5\n",
            "Najgorsza ocena:  2\n"
          ]
        }
      ],
      "source": [
        "a = \"tekst\"\n",
        "print(a[1])\n",
        "\n",
        "suma = 0 \n",
        "o_fizyka = [2,5,2,4]\n",
        "for ocena in o_fizyka:\n",
        "    suma = suma + ocena\n",
        "\n",
        "ilosc_ocen = len(o_fizyka)\n",
        "print(\"Średnia: \", suma/ilosc_ocen)\n",
        "\n",
        "o_fizyka.sort()\n",
        "print(\"Najlepsza ocena: \", o_fizyka[-1])  #ostatnia ocena \n",
        "\n",
        "print(\"Najgorsza ocena: \", o_fizyka[0]) #pierwsza ocena"
      ]
    }
  ],
  "metadata": {
    "colab": {
      "collapsed_sections": [],
      "name": "Python - lekcja 2.ipynb",
      "provenance": []
    },
    "kernelspec": {
      "display_name": "Python 3",
      "language": "python",
      "name": "python3"
    },
    "language_info": {
      "codemirror_mode": {
        "name": "ipython",
        "version": 3
      },
      "file_extension": ".py",
      "mimetype": "text/x-python",
      "name": "python",
      "nbconvert_exporter": "python",
      "pygments_lexer": "ipython3",
      "version": "3.9.10"
    }
  },
  "nbformat": 4,
  "nbformat_minor": 0
}