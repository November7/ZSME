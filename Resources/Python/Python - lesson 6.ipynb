{
 "cells": [
  {
   "cell_type": "markdown",
   "metadata": {},
   "source": [
    "Importowanie wymaganych bibliotek:\n",
    "cv2 - biblioteka OpenCV\n",
    "matplotlib - biblioteka do rysowania wykresów\n",
    "numpy - biblioteka NumPy"
   ]
  },
  {
   "cell_type": "markdown",
   "metadata": {},
   "source": [
    "# Biblioteka OpenCV\n",
    "OpenCV (Open Source Computer Vision Library) to darmowa biblioteka zawierająca implementację wielu algorytmów służących do przetwarzania obrazu video."
   ]
  },
  {
   "cell_type": "markdown",
   "metadata": {},
   "source": [
    "Wersja i przykład użycia biblioteki:"
   ]
  },
  {
   "cell_type": "code",
   "execution_count": null,
   "metadata": {},
   "outputs": [],
   "source": [
    "import cv2 as cv\n",
    "from matplotlib import pyplot as pl\n",
    "import numpy as np\n",
    "print(cv.__version__)"
   ]
  },
  {
   "cell_type": "markdown",
   "metadata": {},
   "source": [
    "Załadowany obraz z pliku (np. jpg) jest tablicą typu numpy"
   ]
  },
  {
   "cell_type": "code",
   "execution_count": null,
   "metadata": {},
   "outputs": [],
   "source": [
    "img = cv.imread('../Images/tiger.jpg')\n",
    "print(type(img)) "
   ]
  },
  {
   "cell_type": "markdown",
   "metadata": {},
   "source": [
    "## Konwersja modelu barw\n",
    "Domyślnie OpenCV używa odwrotnego modelu barw BGR, zamiast RGB. Aby prawidłowo wyświetlać obraz należy podczas wywołania funkcji imshow użyć odpowiedniej konwersji."
   ]
  },
  {
   "cell_type": "code",
   "execution_count": null,
   "metadata": {},
   "outputs": [],
   "source": [
    "f,ax = pl.subplots(1,2,figsize=[15,15])\n",
    "ax[0].axis('off')\n",
    "ax[0].imshow(img)\n",
    "ax[0].set_title(\"BGR\")\n",
    "ax[1].axis('off')\n",
    "ax[1].imshow(cv.cvtColor(img, cv.COLOR_BGR2RGB))\n",
    "ax[1].set_title(\"BGR 2 RGB\")\n",
    "pl.show()"
   ]
  },
  {
   "cell_type": "markdown",
   "metadata": {},
   "source": [
    "### Filtry OpenCV\n",
    "\n",
    "Biblioteka OpenCV zawira gotowe metody umożliwiające stosowanie standardowych filtrów:\n",
    "- Filtry dolno i górnoprzepustowe\n",
    "- Filtry krawędziowe, konturowe\n",
    "- Filtry statystyczne np. medianowe, minimalny, maksymalny\n",
    "\n",
    "Przeanalizuj poniższe przykłady:"
   ]
  },
  {
   "cell_type": "code",
   "execution_count": null,
   "metadata": {},
   "outputs": [],
   "source": [
    "img = cv.imread('../Images/tiger.jpg')\n",
    "\n",
    "k0 = np.array([[0, 0, 0],[0, 1, 0],[0, 0, 0]])\n",
    "k1 = np.array([[1, 1, 1],[1, 1, 1],[1, 1, 1]])/9\n",
    "k2 = np.ones((10,10),np.single)/100\n",
    "k3 = np.array([[1, -1, 1],[-1,0, -1],[1, -1, 1]])\n",
    "k4 = np.array([[-1, -1, -1],[0, 0, 0],[1, 1, 1]])\n",
    "k5 = k4.transpose()\n",
    "#print (k)\n",
    "\n",
    "kernels = [k0,k1,k2,k3,k4,k5]\n",
    "\n",
    "f,s = pl.subplots(2,3,figsize=[25,12])\n",
    "s.shape = (1,6)\n",
    "i=0\n",
    "s = s[0]\n",
    "\n",
    "for ax in s:\n",
    "    nimg = cv.filter2D(src=img, ddepth=-1, kernel=kernels[i])\n",
    "    ax.imshow(cv.cvtColor(nimg, cv.COLOR_BGR2RGB))\n",
    "    ax.axis(\"off\")\n",
    "    i=i+1\n",
    "\n",
    "pl.show()"
   ]
  },
  {
   "cell_type": "markdown",
   "metadata": {},
   "source": [
    "### Filtr medianowy"
   ]
  },
  {
   "cell_type": "code",
   "execution_count": null,
   "metadata": {},
   "outputs": [],
   "source": [
    "img2 = cv.medianBlur(img, 15)\n",
    "\n",
    "f,s = pl.subplots(1,2,figsize=[15,15])\n",
    "s[0].imshow(cv.cvtColor(img, cv.COLOR_BGR2RGB))\n",
    "s[1].imshow(cv.cvtColor(img2, cv.COLOR_BGR2RGB))\n",
    "s[0].axis('off')\n",
    "s[1].axis('off')\n",
    "pl.show()"
   ]
  },
  {
   "cell_type": "code",
   "execution_count": null,
   "metadata": {},
   "outputs": [],
   "source": [
    "img = cv.imread('../Images/litery.jpg')\n",
    "img2 = cv.dilate(img, (3,3), 0) #max\n",
    "img3 = cv.erode(img, (3,3), 0) #min\n",
    "f,ax = pl.subplots(1,3,figsize=[25,10])\n",
    "ax[0].imshow(cv.cvtColor(img, cv.COLOR_BGR2RGB))\n",
    "ax[1].imshow(cv.cvtColor(img2, cv.COLOR_BGR2RGB))\n",
    "ax[2].imshow(cv.cvtColor(img3, cv.COLOR_BGR2RGB))\n",
    "ax[0].axis('off')\n",
    "ax[1].axis('off')\n",
    "ax[2].axis('off')\n",
    "pl.show()"
   ]
  },
  {
   "cell_type": "markdown",
   "metadata": {},
   "source": [
    "### Filtr Gaussa"
   ]
  },
  {
   "cell_type": "code",
   "execution_count": null,
   "metadata": {},
   "outputs": [],
   "source": [
    "\n",
    "img2 = cv.GaussianBlur(img, (15,15), 0)\n",
    "\n",
    "f,s = pl.subplots(1,2,figsize=[15,15])\n",
    "s[0].imshow(cv.cvtColor(img, cv.COLOR_BGR2RGB))\n",
    "s[1].imshow(cv.cvtColor(img2, cv.COLOR_BGR2RGB))\n",
    "s[0].axis('off')\n",
    "s[1].axis('off')\n",
    "pl.show()"
   ]
  },
  {
   "cell_type": "markdown",
   "metadata": {},
   "source": [
    "### Binaryzacja obrazów\n",
    "Binaryzacja obrazu, czyli tzw. progowanie, służy do utworzenia dwukolorowego, binarnego, czarno-białego obrazu, z obrazu, który oryginalnie zapisany jest np. w 256 odcieniach szarości\n",
    "\n",
    "Przykłady binaryzacji (OpenCV):"
   ]
  },
  {
   "cell_type": "code",
   "execution_count": null,
   "metadata": {},
   "outputs": [],
   "source": [
    "img = cv.imread('../Images/tiger.jpg')\n",
    "gray = cv.cvtColor(img, cv.COLOR_BGR2GRAY)\n",
    "\n",
    "r, thr1 = cv.threshold(gray,127,255,cv.THRESH_BINARY)\n",
    "r, thr2 = cv.threshold(gray,127,255,cv.THRESH_BINARY_INV)\n",
    "r, thr3 = cv.threshold(gray,127,255,cv.THRESH_TRUNC)\n",
    "r, thr4 = cv.threshold(gray,127,255,cv.THRESH_TOZERO)\n",
    "r, thr5 = cv.threshold(gray,127,255,cv.THRESH_TOZERO_INV)\n",
    "\n",
    "ttls = ['Original Image','BINARY','BINARY_INV','TRUNC','TOZERO','TOZERO_INV']\n",
    "images = [gray, thr1, thr2, thr3, thr4, thr5]\n",
    "\n",
    "pl.figure(figsize=[20,10])\n",
    "for i in range(6):\n",
    "    pl.subplot(2,3,i+1)\n",
    "    pl.imshow(images[i],'gray',vmin=0,vmax=255)\n",
    "    pl.title(ttls[i])\n",
    "    pl.axis('off')\n",
    "    "
   ]
  },
  {
   "cell_type": "markdown",
   "metadata": {},
   "source": [
    "### Binaryzacja adaptacyjna"
   ]
  },
  {
   "cell_type": "code",
   "execution_count": null,
   "metadata": {},
   "outputs": [],
   "source": [
    "img = cv.imread('../Images/gazeta.jpg')\n",
    "gray = cv.cvtColor(img, cv.COLOR_BGR2GRAY)\n",
    "\n",
    "pr = 170\n",
    "ret,th1 = cv.threshold(gray,pr,255,cv.THRESH_BINARY)\n",
    "th2 = cv.adaptiveThreshold(gray,255,cv.ADAPTIVE_THRESH_MEAN_C,cv.THRESH_BINARY,123,2)\n",
    "th3 = cv.adaptiveThreshold(gray,255,cv.ADAPTIVE_THRESH_GAUSSIAN_C,cv.THRESH_BINARY,123,2)\n",
    "\n",
    "titles = ['Zdjęcie oryginalne', f'Binaryzacja próg = {pr}','Adaptacyjne średnie progowanie', 'Adaptacyjne progowanie Gaussa']\n",
    "\n",
    "images = [gray, th1, th2, th3]\n",
    "pl.figure(figsize=[20,8])\n",
    "\n",
    "for i in range(4):\n",
    "    pl.subplot(1,4,i+1),pl.imshow(images[i],'gray')\n",
    "    pl.title(titles[i])\n",
    "    pl.axis('off')    \n",
    "pl.show()"
   ]
  }
 ],
 "metadata": {
  "interpreter": {
   "hash": "c6e48764ffe32e25b9c29c46fcf3f5faef33948f9facab811b50a6dc3793f6f8"
  },
  "kernelspec": {
   "display_name": "Python 3.10.4 64-bit (windows store)",
   "language": "python",
   "name": "python3"
  },
  "language_info": {
   "codemirror_mode": {
    "name": "ipython",
    "version": 3
   },
   "file_extension": ".py",
   "mimetype": "text/x-python",
   "name": "python",
   "nbconvert_exporter": "python",
   "pygments_lexer": "ipython3",
   "version": "3.9.12"
  },
  "orig_nbformat": 4
 },
 "nbformat": 4,
 "nbformat_minor": 2
}
