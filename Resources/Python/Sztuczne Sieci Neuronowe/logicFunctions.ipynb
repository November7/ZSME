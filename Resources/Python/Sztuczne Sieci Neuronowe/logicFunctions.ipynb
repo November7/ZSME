{
  "cells": [
    {
      "cell_type": "markdown",
      "metadata": {
        "id": "QhkQkv_3WEiW"
      },
      "source": [
        "Instalacja starszej ersji Tensorflow"
      ]
    },
    {
      "cell_type": "code",
      "execution_count": null,
      "metadata": {
        "id": "qxGnKTI0LTyG"
      },
      "outputs": [],
      "source": [
        "!pip install tensorflowjs\n",
        "!pip install TensorFlow==2.15.0\n",
        "!pip install tensorflow-decision-forests==1.8.1"
      ]
    },
    {
      "cell_type": "markdown",
      "metadata": {
        "id": "w2Dkffh0WJ3S"
      },
      "source": [
        "Import bibliotek"
      ]
    },
    {
      "cell_type": "code",
      "execution_count": 1,
      "metadata": {
        "id": "qnJ54kfOG6sx"
      },
      "outputs": [],
      "source": [
        "import tensorflow as tf\n",
        "from tensorflow.keras.layers import Input, Dense\n",
        "import numpy as np\n",
        "import matplotlib.pyplot as plt\n",
        "from tensorflow.keras.utils import plot_model"
      ]
    },
    {
      "cell_type": "markdown",
      "metadata": {
        "id": "a5-5JJiYG-xR"
      },
      "source": [
        "Dane treningowe"
      ]
    },
    {
      "cell_type": "code",
      "execution_count": 2,
      "metadata": {
        "id": "TP0Wp_b3IE6Z"
      },
      "outputs": [],
      "source": [
        "X_train = np.array([[0, 0], [0, 1], [1, 0], [1, 1]])\n",
        "y_train_or = np.array([[0], [1], [1], [1]])\n",
        "y_train_and = np.array([[0], [0], [0], [1]])\n",
        "y_train_xor = np.array([[0], [1], [1], [0]])"
      ]
    },
    {
      "cell_type": "markdown",
      "metadata": {
        "id": "g0ufow7PWbws"
      },
      "source": [
        "Wybór danych treningowych"
      ]
    },
    {
      "cell_type": "code",
      "execution_count": 3,
      "metadata": {
        "id": "-55yFVj3WYBd"
      },
      "outputs": [],
      "source": [
        "y_train = y_train_or\n",
        "# y_train = y_train_and\n",
        "# y_train = y_train_xor"
      ]
    },
    {
      "cell_type": "code",
      "execution_count": 4,
      "metadata": {
        "id": "JM_keVTCYD6B"
      },
      "outputs": [],
      "source": [
        "constant_initializer = tf.keras.initializers.Constant(value=0.1)\n",
        "random_initializer = tf.keras.initializers.RandomNormal(mean=0., stddev=1.)\n",
        "default_initializer = tf.keras.initializers.GlorotUniform()\n",
        "\n",
        "kernel_initializer = random_initializer"
      ]
    },
    {
      "cell_type": "markdown",
      "metadata": {
        "id": "GoZx6SoWINIV"
      },
      "source": [
        "Model nr 1"
      ]
    },
    {
      "cell_type": "code",
      "execution_count": 5,
      "metadata": {
        "id": "S38qh9zyG-Jc"
      },
      "outputs": [],
      "source": [
        "model = tf.keras.Sequential()\n",
        "model.add(Input(shape=(2,)))\n",
        "model.add(Dense(1, activation='sigmoid', kernel_initializer=kernel_initializer))"
      ]
    },
    {
      "cell_type": "markdown",
      "metadata": {
        "id": "aKG9mqkzL-kh"
      },
      "source": [
        "Model nr 2"
      ]
    },
    {
      "cell_type": "code",
      "execution_count": 6,
      "metadata": {
        "id": "604EZvEeL8y8"
      },
      "outputs": [
        {
          "name": "stderr",
          "output_type": "stream",
          "text": [
            "c:\\Users\\MarcinKowalski\\.conda\\envs\\ml_lab_tf\\lib\\site-packages\\keras\\src\\initializers\\initializers.py:120: UserWarning: The initializer RandomNormal is unseeded and being called multiple times, which will return identical values each time (even if the initializer is unseeded). Please update your code to provide a seed to the initializer, or avoid using the same initializer instance more than once.\n",
            "  warnings.warn(\n"
          ]
        }
      ],
      "source": [
        "model = tf.keras.Sequential()\n",
        "model.add(Input(shape=(2,)))\n",
        "model.add(Dense(4, activation='sigmoid', kernel_initializer=kernel_initializer))\n",
        "model.add(Dense(1, activation='sigmoid', kernel_initializer=kernel_initializer))"
      ]
    },
    {
      "cell_type": "code",
      "execution_count": 7,
      "metadata": {
        "colab": {
          "base_uri": "https://localhost:8080/",
          "height": 170
        },
        "id": "r8hUoM3tVNms",
        "outputId": "f5da046f-6bcd-4885-fd45-5f6d685afc30"
      },
      "outputs": [
        {
          "name": "stdout",
          "output_type": "stream",
          "text": [
            "Model: \"sequential_1\"\n",
            "_________________________________________________________________\n",
            " Layer (type)                Output Shape              Param #   \n",
            "=================================================================\n",
            " dense_1 (Dense)             (None, 4)                 12        \n",
            "                                                                 \n",
            " dense_2 (Dense)             (None, 1)                 5         \n",
            "                                                                 \n",
            "=================================================================\n",
            "Total params: 17 (68.00 Byte)\n",
            "Trainable params: 17 (68.00 Byte)\n",
            "Non-trainable params: 0 (0.00 Byte)\n",
            "_________________________________________________________________\n"
          ]
        }
      ],
      "source": [
        "model.compile(optimizer=tf.keras.optimizers.Adam(learning_rate=0.02), loss='binary_crossentropy', metrics=['accuracy'])\n",
        "model.summary()"
      ]
    },
    {
      "cell_type": "code",
      "execution_count": null,
      "metadata": {
        "colab": {
          "base_uri": "https://localhost:8080/",
          "height": 291
        },
        "id": "ZlcHzQi8VT7O",
        "outputId": "158e9967-bdd5-470a-ac98-510aeec8c4f8"
      },
      "outputs": [],
      "source": [
        "early_stopping = tf.keras.callbacks.EarlyStopping(monitor='loss', patience=20, restore_best_weights=True)\n",
        "history = model.fit(X_train, y_train, epochs=500, verbose=0, callbacks=early_stopping)\n",
        "model.summary()\n",
        "print(\"Test danych treningowych\\n\", model.predict(X_train))"
      ]
    },
    {
      "cell_type": "code",
      "execution_count": null,
      "metadata": {
        "colab": {
          "base_uri": "https://localhost:8080/",
          "height": 565
        },
        "id": "j7NehYwKKEe8",
        "outputId": "9c066fd3-20e3-43fd-c043-e89da5cca9e0"
      },
      "outputs": [],
      "source": [
        "fig, axs = plt.subplots(1, 2, figsize=(15, 6))\n",
        "\n",
        "axs[0].plot(history.history['loss'])\n",
        "axs[0].set_title('Wykres straty / epoki')\n",
        "axs[0].set_xlabel('Epoka')\n",
        "axs[0].set_ylabel('Strata')\n",
        "axs[0].set_ylim([0, 1])\n",
        "\n",
        "axs[1].plot(history.history['accuracy'])\n",
        "axs[1].set_title('Wykres dokładności / epoki')\n",
        "axs[1].set_xlabel('Epoka')\n",
        "axs[1].set_ylabel('Dokładność')\n",
        "axs[1].set_ylim([0, 1.2])\n",
        "\n",
        "plt.show()"
      ]
    },
    {
      "cell_type": "markdown",
      "metadata": {
        "id": "OEy1eaIZNPx3"
      },
      "source": [
        "Zapis modelu do Tensorflow.js"
      ]
    },
    {
      "cell_type": "code",
      "execution_count": null,
      "metadata": {
        "id": "zWMpxupA3oMq"
      },
      "outputs": [],
      "source": [
        "import tensorflowjs as tfjs\n",
        "tfjs.converters.save_keras_model(model, 'model')"
      ]
    }
  ],
  "metadata": {
    "colab": {
      "provenance": []
    },
    "kernelspec": {
      "display_name": "ml_lab_tf",
      "language": "python",
      "name": "python3"
    },
    "language_info": {
      "codemirror_mode": {
        "name": "ipython",
        "version": 3
      },
      "file_extension": ".py",
      "mimetype": "text/x-python",
      "name": "python",
      "nbconvert_exporter": "python",
      "pygments_lexer": "ipython3",
      "version": "3.8.20"
    }
  },
  "nbformat": 4,
  "nbformat_minor": 0
}
