{
  "cells": [
    {
      "cell_type": "markdown",
      "metadata": {
        "id": "6uyuxDz9YOno"
      },
      "source": [
        "# Biblioteka NumPy\n",
        "\n",
        "NumPy to zaawansowana biblioteka do pracy z tablicami i zaawansowanymi obliczeniami matematycznymi."
      ]
    },
    {
      "cell_type": "code",
      "execution_count": null,
      "metadata": {
        "colab": {
          "base_uri": "https://localhost:8080/"
        },
        "id": "dqIA0CxsZNjh",
        "outputId": "5139abac-2cce-4f7c-d8bf-4f4b58819966"
      },
      "outputs": [],
      "source": [
        "import numpy as np\n",
        "print(np.__version__)"
      ]
    },
    {
      "cell_type": "markdown",
      "metadata": {
        "id": "CwRnnPq-c16W"
      },
      "source": [
        "##Typy danych w NumPy\n",
        "\n",
        "W Python dostępne są wbudowane typy takie jak: \n",
        "- tekst (string), \n",
        "- liczba całkowita (integer), \n",
        "- liczba zmiennoprzecinkowa (float), \n",
        "- wartość logiczna (boolen)\n",
        "- liczba zespolona (complex)\n",
        "\n",
        "W bibliotece NumPy znajduje się znacznie więcej typów (https://numpy.org/doc/stable/user/basics.types.html) takich jak (numpy as np):\n",
        "- bool (np.bool_)\n",
        "- [signed | unsigned] char (np.byte | np.ubyte)\n",
        "- [unsigned] short (np.short | np.ushort)\n",
        "- [unsigned]  int (np.intc | np.uintc)\n",
        "- [unsigned] long (np.int_ | np.uint)\n",
        "- [unsigned] long long (np.longlong | np.ulonglong)\n",
        "- float16 (np.half / np.float16)  \n",
        "- float (np.single)\n",
        "- [long] double (np.double | np.longdouble)\n",
        "- [float | double | long double] complex (np.csingle | np.cdouble | np.clongdouble)"
      ]
    },
    {
      "cell_type": "code",
      "execution_count": null,
      "metadata": {
        "colab": {
          "base_uri": "https://localhost:8080/"
        },
        "id": "NMnSUQP8fRzo",
        "outputId": "288f8704-f61a-43bc-fde5-4d0bd99ac185"
      },
      "outputs": [],
      "source": [
        "import numpy as np\n",
        "\n",
        "a = np.ubyte(123)\n",
        "b = np.ubyte(321) #uwaga!\n",
        "\n",
        "print(a,b,sep=\"\\n\")"
      ]
    },
    {
      "cell_type": "markdown",
      "metadata": {
        "id": "DCveU9kMfn_M"
      },
      "source": [
        "## Zakres typów danych"
      ]
    },
    {
      "cell_type": "code",
      "execution_count": null,
      "metadata": {
        "colab": {
          "base_uri": "https://localhost:8080/"
        },
        "id": "KkZXsWUFfqbJ",
        "outputId": "aaa783c6-37b7-4dbc-c61d-aef97518129e"
      },
      "outputs": [],
      "source": [
        "import numpy as np\n",
        "\n",
        "print(np.iinfo(np.ubyte))\n",
        "print(np.iinfo(np.ushort))\n",
        "print(np.iinfo(np.uint))\n",
        "print(np.iinfo(np.ulonglong))\n",
        "\n",
        "print(np.finfo(np.single))\n",
        "print(np.finfo(np.double))\n",
        "print(np.finfo(np.longdouble))"
      ]
    },
    {
      "cell_type": "markdown",
      "metadata": {
        "id": "Rro0-PLxYxfL"
      },
      "source": [
        "## Tablice NumPy\n",
        "\n",
        "Biblioteka NumPy umożliwia tworzenie tablic (macierzy) od 0-wymiarowej, po n-wymiarową.\n",
        "\n",
        "- Tablica 0-wymiarowa (skalar, czyli liczba)\n",
        "- Tablica 1-wymiarowa (wektor)\n",
        "- Tablica 2-wymiarowa (macierz)\n",
        "- Tablica n-wymiarowa (tensor)"
      ]
    },
    {
      "cell_type": "code",
      "execution_count": null,
      "metadata": {
        "colab": {
          "base_uri": "https://localhost:8080/"
        },
        "id": "ugkknwW-ZBgd",
        "outputId": "7c7d9e34-e052-411e-e81e-5d20e15e93e7"
      },
      "outputs": [],
      "source": [
        "import numpy as np\n",
        "\n",
        "#tworzenie tablicy numpy z listy i krotki:\n",
        "t1 = np.array([1, 2, 3])\n",
        "t2 = np.array((1, 2, 3))\n",
        "\n",
        "print (t1)\n",
        "print(type(t1))\n",
        "\n",
        "print (t2)\n",
        "print(type(t2))"
      ]
    },
    {
      "cell_type": "markdown",
      "metadata": {
        "id": "-XiYvOyva_dp"
      },
      "source": [
        "##Tworzenie tablic wielowymiarowych oraz badanie ich wymiarowości.\n",
        "\n",
        "Przykłady tworzenia tablic wielowymiarowych:"
      ]
    },
    {
      "cell_type": "code",
      "execution_count": null,
      "metadata": {
        "colab": {
          "base_uri": "https://localhost:8080/"
        },
        "id": "9_R9136cbHqY",
        "outputId": "cf4884f7-a5e1-400e-a177-5522b098f059"
      },
      "outputs": [],
      "source": [
        "import numpy as np\n",
        "\n",
        "#tablica 0-wymiarowa, (skalar, liczba)\n",
        "t0 = np.array(1)\n",
        "\n",
        "#tablica 1-wymiarowa (wektor)\n",
        "t1 = np.array([1,2,3])\n",
        "\n",
        "#tablica 2-wymiarowa (macierz)\n",
        "t2 = np.array([[1,2,3],[3,2,1]])\n",
        "\n",
        "#tablica 3-wymiarowa (macierz wielowymiarowa)\n",
        "t3 = np.array([[[1,2,3],[3,2,1]],[[-1,2,-3],[3,-2,1]]])\n",
        "\n",
        "print(t0,\"\\n\")\n",
        "print(t1,\"\\n\")\n",
        "print(t2,\"\\n\")\n",
        "print(t3,\"\\n\")"
      ]
    },
    {
      "cell_type": "markdown",
      "metadata": {
        "id": "FNYjZKWP0EuG"
      },
      "source": [
        "##Odwoływanie się do elementów tablic (NumPy)\n",
        "Do elementów tablicy biblioteki NumPy można odowłać się podobnie jak do list w Python, tj. za pomocą kwadratowych nawiasów. Numeracja rozpoczyna się w 0. Możliwe są również ujemne indeksy (ostatni element ma index -1, przedostatni -2 itd.)."
      ]
    },
    {
      "cell_type": "code",
      "execution_count": null,
      "metadata": {
        "colab": {
          "base_uri": "https://localhost:8080/"
        },
        "id": "uZ1kZQ7RkWrm",
        "outputId": "4bc87486-65cf-4c4a-b7f6-f7f67b6255c3"
      },
      "outputs": [],
      "source": [
        "import numpy as np\n",
        "\n",
        "t0 = np.array(1)\n",
        "t1 = np.array([1,2,3])\n",
        "t2 = np.array([[1,2,3],[3,2,1]])\n",
        "t3 = np.array([[[1,2,3],[3,2,1]],[[-1,2,-3],[3,-2,1]]])\n",
        "\n",
        "print(\"Liczba\", t0)\n",
        "\n",
        "print(\"Element o indeksie 1\",t1[1])\n",
        "\n",
        "print(\"Element o indeksie [1][0]\",t2[1][0])\n",
        "\n",
        "print(\"Ostatni element\",t1[-1])\n",
        "\n",
        "print(\"Ostatni element\",t2[-1][-1])"
      ]
    },
    {
      "cell_type": "markdown",
      "metadata": {
        "id": "4ujgpm0I2S1i"
      },
      "source": [
        "Odwołując się do tablicy (tak jak w przypadku list Python) w postaci `tablica[a:b:c]` możliwe jest uzyskanie danych z zakresu indeksów od `a` do `b-1` co `c` elementów. Skok `c` ma domyślnie wartość +1. Wartości a, b, c mogą być ujemne (liczone od końca)."
      ]
    },
    {
      "cell_type": "code",
      "execution_count": null,
      "metadata": {
        "colab": {
          "base_uri": "https://localhost:8080/"
        },
        "id": "bKYpFJAA2O04",
        "outputId": "d75a3867-73b3-4e3a-c744-915eeb10d677"
      },
      "outputs": [],
      "source": [
        "t = np.array([0,1,2,3,4,5,6,7,8,9,10,11,12,13,14,15])\n",
        "\n",
        "print(\"Elementy od 2 do 9 włącznie\",t[2:10])\n",
        "print(\"Elementy od 2 do 9 włącznie co 2\",t[2:10:2])\n",
        "\n",
        "print(\"Elementy od 10 do 3 ??\",t[10:2]) #### nieprawidłowy zapis\n",
        "\n",
        "print(\"Elementy od 10 do 3 co 1\",t[10:2:-1])\n",
        "print(\"Elementy od 10 do 3 co 3\",t[10:2:-3])\n",
        "\n",
        "print(\"Elementy od ostatniego do 5 od końca co 2\",t[-1:-5:-2])\n",
        "\n",
        "print(\"Elementy od 3 do końca\", t[3:]) #lub t[3::]\n",
        "print(\"Wszystkie elementy\", t[::]) #lub t[::1] lub po prostu t\n",
        "print(\"Wszystkie elementy od końca\", t[::-1])"
      ]
    },
    {
      "cell_type": "markdown",
      "metadata": {
        "id": "07GyzPkBhQ0S"
      },
      "source": [
        "##Tablice liczb określonego typu\n",
        "\n",
        "Znaki reprezentujące typy (używane np. podczas tworzenia tablic w parametrze dtype):\n",
        "- i - integer\n",
        "- b - boolean\n",
        "- u - unsigned integer\n",
        "- f - float\n",
        "- c - complex float\n",
        "- s - string"
      ]
    },
    {
      "cell_type": "code",
      "execution_count": null,
      "metadata": {
        "colab": {
          "base_uri": "https://localhost:8080/"
        },
        "id": "Jz-eH4ZvhUZv",
        "outputId": "2b7b12ea-e7e9-4326-dc24-8b4cce271b35"
      },
      "outputs": [],
      "source": [
        "import numpy as np\n",
        "\n",
        "t1 = np.byte([123,234,345])\n",
        "\n",
        "print(t1)\n",
        "print(type(t1))\n",
        "\n",
        "t2 = np.array([123,234,345], dtype=\"b\")\n",
        "print(t2)\n",
        "print(type(t2))"
      ]
    },
    {
      "cell_type": "markdown",
      "metadata": {
        "id": "PjQq512X5Ypt"
      },
      "source": [
        "##Wymiar i kształt macierzy\n",
        "Do określenia podstawowych właściwości macierzy używane są funkcje:\n",
        "- `ndim` - wymiar macierzy\n",
        "- `shape` - kształ macierzy: krotka zawierająca rozmiar wszystkich wymiarów (M,N,K...)\n",
        "- `size` - ilość elementów macierzy\n",
        "\n"
      ]
    },
    {
      "cell_type": "code",
      "execution_count": null,
      "metadata": {
        "colab": {
          "base_uri": "https://localhost:8080/"
        },
        "id": "CdqarS3L5YEg",
        "outputId": "0b18efb8-9020-4319-ce4f-a2886c302a33"
      },
      "outputs": [],
      "source": [
        "import numpy as np\n",
        "t = np.array([[1,2,3,4],[4,3,2,1],[2,3,4,6]])\n",
        "\n",
        "print(t)\n",
        "\n",
        "print(\"Wymiar macierzy\",t.ndim)\n",
        "print(\"Kształt macierzy\",t.shape)\n",
        "print(\"Ilość elementów\",t.size)"
      ]
    },
    {
      "cell_type": "markdown",
      "metadata": {
        "id": "-aIFg4au5EDy"
      },
      "source": [
        "##Generowanie wektorów i macierzy\n",
        "\n",
        "Generowanie gotowych macierzy o zadanym kształcie, wymiarze, typie i wartościach.\n",
        "- empty - pusta macierz\n",
        "- zeros - macierz zer\n",
        "- ones - macierz jedynek\n",
        "- random - tworzenie losowych wartości np. jako macierz"
      ]
    },
    {
      "cell_type": "code",
      "execution_count": null,
      "metadata": {
        "colab": {
          "base_uri": "https://localhost:8080/"
        },
        "id": "e4WzfBSI8xyU",
        "outputId": "a83f2e02-d37f-4b63-eacd-f093eef74cc9"
      },
      "outputs": [],
      "source": [
        "import numpy as np\n",
        "\n",
        "empty = np.empty(10) #z wartościami śmieciowymi!\n",
        "\n",
        "zeros1 = np.zeros([3,2])\n",
        "\n",
        "zeros2 = np.zeros([3,2], dtype=\"uint\")\n",
        "\n",
        "ones = np.ones([3,4,2])\n",
        "\n",
        "step = np.arange(10,dtype=\"single\")\n",
        "\n",
        "rand = np.random.randint(100,size = (5,3))\n",
        "\n",
        "print(empty, zeros1, zeros2, ones, step, rand, sep=\"\\n\\n\")"
      ]
    },
    {
      "cell_type": "markdown",
      "metadata": {
        "id": "yF8G1tq5-cpl"
      },
      "source": [
        "##Zmiana kształtu\n",
        "Zmiana kształtu macierzy:\n",
        "- shape - zmiana kształtu na oryginalnej macierzy\n",
        "- reshape - stworzenie nowej kopii macierzy o innym kształcie"
      ]
    },
    {
      "cell_type": "code",
      "execution_count": null,
      "metadata": {
        "colab": {
          "base_uri": "https://localhost:8080/"
        },
        "id": "RkX52sy9AYYO",
        "outputId": "dceca15d-1674-4907-8a3c-3ca8bc3076bd"
      },
      "outputs": [],
      "source": [
        "import numpy as np\n",
        "\n",
        "rand = np.random.randint(100,size = 12)\n",
        "print(rand,\"\\n\")\n",
        "rand.shape = (2,6)\n",
        "print(rand,\"\\n\")\n",
        "rand.shape = (3,4)\n",
        "print(rand,\"\\n\")\n",
        "\n",
        "rand2 = rand.reshape(2,6)\n",
        "print(\"Reshape:\",rand,rand2,sep=\"\\n\\n\")\n"
      ]
    },
    {
      "cell_type": "markdown",
      "metadata": {
        "id": "_7SAMlmXjewI"
      },
      "source": [
        "##Zmiana typu obiektów NumPy\n",
        "\n",
        "Za pomocą metody astype, możliwa jest konwersja typu danych w macierzy na inny. Uwaga na utratę danych albo błędy konwersji!\n"
      ]
    },
    {
      "cell_type": "code",
      "execution_count": null,
      "metadata": {
        "id": "glYCpo8rjjHB"
      },
      "outputs": [],
      "source": [
        "import numpy as np\n",
        "\n",
        "t1 = np.single([1.1,2.02,3.14,4.5])\n",
        "\n",
        "print(t1)\n",
        "\n",
        "t2 = t1.astype('int_')\n",
        "\n",
        "print(t2)\n",
        "\n",
        "print(t1.dtype, t2.dtype)"
      ]
    },
    {
      "cell_type": "markdown",
      "metadata": {
        "id": "fGoRonNZDEao"
      },
      "source": [
        "#Obrazy jako macierze\n",
        "\n",
        "##Ładowanie obrazów za pomocą biblioteki matplotlib (image)\n",
        "\n",
        "Obraz komputerowy jest wielowymiarową tablicą w postaci: szerokość, wysokość, ilość składowych kolorów (głębia kolorów). Za pomocą biblioteki matplotlib możliwe jest załadowanie obrazu do tablicy, a następnie utworzenie tablicy numpy. \n",
        "\n",
        "Uwaga na kolejnosć wymiarów! W grafice komputerowej jest to odpowiednio szerokość x wysokość x głębia. W przypadku macierzy: wiersze x kolumny x kolejne wymiary (np. głębia kolorów). Czyli np. dla obrazu 800 x 600 x 24 (24 bitowa głebia kolorów), będzie to macierz 600 x 800 x 3 (3 składowe na kolor, gdzie każdy element takiej macierzy może być liczbą z zakresu 0-255 lub 0.0 - 1.0)"
      ]
    },
    {
      "cell_type": "code",
      "execution_count": null,
      "metadata": {
        "colab": {
          "base_uri": "https://localhost:8080/",
          "height": 623
        },
        "id": "NcI0ACUQ8EwF",
        "outputId": "a00bb1a6-72e0-4623-d9dd-53887726450e"
      },
      "outputs": [],
      "source": [
        "from matplotlib import image as im\n",
        "from matplotlib import pyplot as pl\n",
        "import numpy as np\n",
        "\n",
        "image = im.imread('../Images/tiger.jpg')\n",
        "data = np.ubyte(image) #konwersja do typu unsigned byte\n",
        "\n",
        "#image = im.imread('stinkbug.png')\n",
        "#data = np.single(image)\n",
        "\n",
        "print(type(image))\n",
        "print(type(data))\n",
        "print(data.shape)\n",
        "\n",
        "pl.figure(figsize=[12,12])\n",
        "pl.imshow(data)\n",
        "pl.show()\n",
        "\n",
        "print(data.shape, data.ndim)"
      ]
    },
    {
      "cell_type": "markdown",
      "metadata": {
        "id": "y48RgkLqE1UM"
      },
      "source": [
        "##Operacje na obazach / macierzach"
      ]
    },
    {
      "cell_type": "code",
      "execution_count": null,
      "metadata": {
        "colab": {
          "base_uri": "https://localhost:8080/",
          "height": 554
        },
        "id": "ETLw4x2I-itb",
        "outputId": "a949b899-4bef-4677-8395-5877bdc03ad4"
      },
      "outputs": [],
      "source": [
        "pl.figure(figsize=[12,12])\n",
        "pl.imshow(data[::-1])\n",
        "pl.show()"
      ]
    },
    {
      "cell_type": "code",
      "execution_count": null,
      "metadata": {
        "colab": {
          "base_uri": "https://localhost:8080/",
          "height": 554
        },
        "id": "vpp9a7cd-222",
        "outputId": "abadb4ec-7f88-446b-d83c-441b6d23b20c"
      },
      "outputs": [],
      "source": [
        "pl.figure(figsize=[12,12])\n",
        "pl.imshow(data[:, ::-1])\n",
        "pl.show()"
      ]
    },
    {
      "cell_type": "code",
      "execution_count": null,
      "metadata": {
        "colab": {
          "base_uri": "https://localhost:8080/",
          "height": 185
        },
        "id": "7fCEJtTL_CTk",
        "outputId": "6ade4ca1-ad5f-453a-beb2-7433fd0995bd"
      },
      "outputs": [],
      "source": [
        "pl.figure(figsize=[12,12])\n",
        "pl.imshow(data[200:300, 200:700])\n",
        "pl.show()"
      ]
    },
    {
      "cell_type": "code",
      "execution_count": null,
      "metadata": {
        "colab": {
          "base_uri": "https://localhost:8080/",
          "height": 550
        },
        "id": "WSGWpGS7_QU7",
        "outputId": "c1eeeb2c-cadf-4ff1-f0eb-cc1818d6dc4d"
      },
      "outputs": [],
      "source": [
        "pl.figure(figsize=[12,12])\n",
        "pl.imshow(data[::10, ::10])\n",
        "pl.show()"
      ]
    },
    {
      "cell_type": "markdown",
      "metadata": {
        "id": "dagNq5QYFFzW"
      },
      "source": [
        "Dla obrazu (jak dla zwykłej tablicy) można wykorzystać wbudowane funkcje statystyczne np. suma, średnia, minimum, maksimum, odchylenie standardowe, wariancja itp."
      ]
    },
    {
      "cell_type": "code",
      "execution_count": null,
      "metadata": {
        "colab": {
          "base_uri": "https://localhost:8080/"
        },
        "id": "DEKXMTu4_kBQ",
        "outputId": "30b3eb2e-0612-4e7f-8240-7d82381cfaff"
      },
      "outputs": [],
      "source": [
        "print(np.sum(data))\n",
        "print(np.mean(data))\n",
        "print(np.min(data))\n",
        "print(np.max(data))\n",
        "print(np.std(data))\n",
        "print(np.var(data))"
      ]
    },
    {
      "cell_type": "markdown",
      "metadata": {
        "id": "V-x5b90mFaVv"
      },
      "source": [
        "##Metoda where.\n",
        "Za pomocą tej metody można dokonać warunkowej zmiany wartości w macierzy.\n",
        "\n",
        "Poniżej przykład binaryzacji (progowania)."
      ]
    },
    {
      "cell_type": "code",
      "execution_count": null,
      "metadata": {
        "colab": {
          "base_uri": "https://localhost:8080/",
          "height": 554
        },
        "id": "Ol3cZV36AFgz",
        "outputId": "a04468fd-24c0-40e9-8911-22e655876cd0"
      },
      "outputs": [],
      "source": [
        "data_bin = np.where(data>123,255,0)\n",
        "pl.figure(figsize=[12,12])\n",
        "pl.imshow(data_bin)\n",
        "pl.show()"
      ]
    },
    {
      "cell_type": "markdown",
      "metadata": {
        "id": "e6p0BnEDGAVo"
      },
      "source": [
        "##Konwersja do skali szarości"
      ]
    },
    {
      "cell_type": "code",
      "execution_count": null,
      "metadata": {
        "colab": {
          "base_uri": "https://localhost:8080/",
          "height": 554
        },
        "id": "Biv3IfY0A03F",
        "outputId": "98a33f9f-def2-408d-ee9f-c59d321f3714"
      },
      "outputs": [],
      "source": [
        "gray = np.ubyte(0.07 * data[:,:,2] + 0.72 * data[:,:,1] + 0.21 * data[:,:,0])\n",
        "\n",
        "#data_mono = np.empty(shape=(600,800,3),dtype=\"uint8\")\n",
        "#data_mono[:,:,0] = gval;\n",
        "#data_mono[:,:,1] = gval;\n",
        "#data_mono[:,:,2] = gval;\n",
        "\n",
        "pl.figure(figsize = (12,12))\n",
        "pl.imshow(gray,cmap='gray')\n",
        "pl.show()"
      ]
    },
    {
      "cell_type": "markdown",
      "metadata": {
        "id": "1r2tB7QUGhRO"
      },
      "source": [
        "##Kanały R, G, B"
      ]
    },
    {
      "cell_type": "code",
      "execution_count": null,
      "metadata": {
        "colab": {
          "base_uri": "https://localhost:8080/",
          "height": 582
        },
        "id": "C2xR0M-cG6no",
        "outputId": "caadceb8-073d-4f67-ebd8-f132b69c815e"
      },
      "outputs": [],
      "source": [
        "data_R = np.zeros(shape=(600,800,3),dtype=\"uint8\")\n",
        "data_G = np.zeros(shape=(600,800,3),dtype=\"uint8\")\n",
        "data_B = np.zeros(shape=(600,800,3),dtype=\"uint8\")\n",
        "\n",
        "data_R[:,:,0] = data[:,:,0]\n",
        "data_G[:,:,1] = data[:,:,1]\n",
        "data_B[:,:,2] = data[:,:,2]\n",
        "\n",
        "f, ax = pl.subplots(2,3,figsize=(18,10)) \n",
        "\n",
        "ax[0][0].imshow(data_R)\n",
        "ax[0][0].title.set_text(\"Kanał czerwony\")\n",
        "ax[0][1].imshow(data_G)\n",
        "ax[0][1].title.set_text(\"Kanał zielony\")\n",
        "ax[0][2].imshow(data_B)\n",
        "ax[0][2].title.set_text(\"Kanał niebieski\")\n",
        "\n",
        "ax[1][0].imshow(data[:,:,0],cmap='gray')\n",
        "ax[1][0].title.set_text(\"Kanał czerwony - mono\")\n",
        "ax[1][1].imshow(data[:,:,1],cmap='gray')\n",
        "ax[1][0].title.set_text(\"Kanał zielony - mono\")\n",
        "ax[1][2].imshow(data[:,:,2],cmap='gray')\n",
        "ax[1][0].title.set_text(\"Kanał niebieski - mono\")\n",
        "\n",
        "pl.show()"
      ]
    },
    {
      "cell_type": "code",
      "execution_count": null,
      "metadata": {
        "colab": {
          "base_uri": "https://localhost:8080/",
          "height": 523
        },
        "id": "WMNSPOmDK3Ph",
        "outputId": "9f4f4a75-7576-4978-9443-477f0acd612d"
      },
      "outputs": [],
      "source": [
        "g0 = np.double(0.07 * data[:,:,2] + 0.72 * data[:,:,1] + 0.21 * data[:,:,0])\n",
        "#g0 = np.uint(0.07 * data[:,:,2] + 0.72 * data[:,:,1] + 0.21 * data[:,:,0])\n",
        "\n",
        "m = 1.5\n",
        "\n",
        "g1 = np.ubyte(g0 * m)\n",
        "g2 = np.where(g0 * m > 255, 255, g0 * m)\n",
        "\n",
        "b = 128\n",
        "g3 = np.where(g0 + b > 255, 255, g0 + b)\n",
        "\n",
        "h0, b0 = np.histogram(g0, bins=256)\n",
        "h1, b1 = np.histogram(g1, bins=256)\n",
        "h2, b2 = np.histogram(g2, bins=256)\n",
        "h3, b3 = np.histogram(g3, bins=256)\n",
        "\n",
        "\n",
        "f, ax = pl.subplots(2,4,figsize = (28,10))\n",
        "\n",
        "ax[0][0].imshow(g0,cmap='gray')\n",
        "ax[0][1].imshow(g1,cmap='gray')\n",
        "ax[0][2].imshow(g2,cmap='gray')\n",
        "ax[0][3].imshow(g3,cmap='gray')\n",
        "ax[1][0].plot(h0)\n",
        "ax[1][1].plot(h1)\n",
        "ax[1][2].plot(h2)\n",
        "ax[1][3].plot(h3)\n",
        "\n",
        "pl.show()"
      ]
    }
  ],
  "metadata": {
    "colab": {
      "collapsed_sections": [],
      "name": "Python - Lekcja 5.ipynb",
      "provenance": []
    },
    "kernelspec": {
      "display_name": "Python 3",
      "name": "python3"
    },
    "language_info": {
      "codemirror_mode": {
        "name": "ipython",
        "version": 3
      },
      "file_extension": ".py",
      "mimetype": "text/x-python",
      "name": "python",
      "nbconvert_exporter": "python",
      "pygments_lexer": "ipython3",
      "version": "3.10.4"
    }
  },
  "nbformat": 4,
  "nbformat_minor": 0
}
